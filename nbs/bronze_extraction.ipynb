{
 "cells": [
  {
   "cell_type": "code",
   "execution_count": null,
   "id": "67dc713b",
   "metadata": {},
   "outputs": [],
   "source": [
    "import os\n",
    "import polars as pl\n",
    "\n",
    "pl.Config.set_tbl_rows(20)      # Increase max rows (default is 10)\n",
    "pl.Config.set_tbl_cols(15)        # Increase max columns (default is 10)"
   ]
  },
  {
   "cell_type": "code",
   "execution_count": null,
   "id": "830d663a",
   "metadata": {},
   "outputs": [],
   "source": [
    "# read data from csv.gz files into a dictionary of DataFrames\n",
    "dataframes = {}\n",
    "data_path = \"data\"\n",
    "filenames = [\"admissions\", \"chartevents\", \"d_icd_diagnoses\", \"d_items\", \"d_labitems\", \"diagnoses_icd\", \"icustays\", \"labevents\", \"patients\"]\n",
    "\n",
    "for name in filenames:\n",
    "    path = os.path.join(data_path, f\"{name}.csv.gz\")\n",
    "    dataframes[name] = pl.read_csv(path, infer_schema_length=1000)#ignore_errors=True)"
   ]
  },
  {
   "cell_type": "code",
   "execution_count": null,
   "id": "15765662",
   "metadata": {},
   "outputs": [],
   "source": [
    "# filter out pneumonia diagnosis based on ICD codes\n",
    "filtered_diagnosis_df = dataframes[\"d_icd_diagnoses\"].filter(\n",
    "    pl.col(\"long_title\").str.contains(\"pneumonia\") &\n",
    "    (\n",
    "        ( # ICD 9 = \"84...\"\n",
    "            (pl.col(\"icd_version\") == 9) &\n",
    "            (pl.col(\"icd_code\").cast(pl.Utf8).str.starts_with(\"48\"))\n",
    "        ) |\n",
    "        ( # ICD 10 = \"J1...\"\n",
    "            (pl.col(\"icd_version\") == 10) &\n",
    "            (pl.col(\"icd_code\").cast(pl.Utf8).str.starts_with(\"J1\"))\n",
    "        )\n",
    "    ))\n",
    "\n",
    "#print(filtered_diagnosis_df)\n",
    "dataframes[\"d_icd_diagnoses\"] = filtered_diagnosis_df # save back in df dictionary"
   ]
  },
  {
   "cell_type": "code",
   "execution_count": null,
   "id": "dfee6e2a",
   "metadata": {},
   "outputs": [],
   "source": [
    "# Filter patients with diagnosis based on ICD codes by inner join\n",
    "dataframes[\"diagnoses_icd\"] = dataframes[\"diagnoses_icd\"].select(['subject_id', 'hadm_id', 'icd_code', 'icd_version'])\n",
    "\n",
    "pneumonia_diagnosis_temp0 = dataframes[\"diagnoses_icd\"].join(\n",
    "    filtered_diagnosis_df,\n",
    "    on=[\"icd_code\", \"icd_version\"],\n",
    "    how=\"inner\"\n",
    ")\n",
    "\n",
    "#print(pneumonia_diagnosis_temp0) # Leaves 9 patients with pneumonia diagnosis"
   ]
  },
  {
   "cell_type": "code",
   "execution_count": null,
   "id": "df8e879b",
   "metadata": {},
   "outputs": [],
   "source": [
    "# Filter patients dataframe for relevant columns\n",
    "dataframes[\"patients\"] = dataframes[\"patients\"].select([\"subject_id\", \"gender\", \"anchor_age\"])\n",
    "\n",
    "# Add information to diagnosis dataframe\n",
    "pneumonia_diagnosis_temp1 = pneumonia_diagnosis_temp0.join(\n",
    "    dataframes[\"patients\"],\n",
    "    on=\"subject_id\",\n",
    "    how=\"inner\"\n",
    ")\n",
    "\n",
    "#print(pneumonia_diagnosis_temp1)"
   ]
  },
  {
   "cell_type": "code",
   "execution_count": null,
   "id": "af2a270a",
   "metadata": {},
   "outputs": [],
   "source": [
    "# Filter admissions dataframe for relevant columns\n",
    "dataframes[\"admissions\"] = dataframes[\"admissions\"].select([\"subject_id\", \"hadm_id\", \"admission_location\",'admittime'])\n",
    "\n",
    "# Add information to diagnosis dataframe\n",
    "pneumonia_patients_df = pneumonia_diagnosis_temp1.join(\n",
    "    dataframes[\"admissions\"],\n",
    "    on=[\"subject_id\", \"hadm_id\"],\n",
    "    how=\"inner\"\n",
    ")\n",
    "\n",
    "print(pneumonia_patients_df.columns)\n",
    "print(pneumonia_patients_df) # finished patient dataframe with 9 cases"
   ]
  },
  {
   "cell_type": "code",
   "execution_count": null,
   "id": "d35b1dbe",
   "metadata": {},
   "outputs": [],
   "source": [
    "# Filter out icustays for relevant patients by subject_id & hadm_id from pneumonia_patients_df\n",
    "filtered_icustays = dataframes[\"icustays\"].join(\n",
    "    pneumonia_patients_df.select([\"subject_id\", \"hadm_id\"]),\n",
    "    on=[\"subject_id\", \"hadm_id\"],\n",
    "    how=\"inner\"\n",
    ").select([\"subject_id\", \"hadm_id\", \"stay_id\"])\n",
    "\n",
    "#print(filtered_icustays) # 7 patients with icu stay for pneumonia"
   ]
  },
  {
   "cell_type": "code",
   "execution_count": null,
   "id": "a2f64136",
   "metadata": {},
   "outputs": [],
   "source": [
    "# Filter chartevents for relevant patients by subject_id, hadm_id, and stay_id\n",
    "dataframes[\"chartevents\"] = dataframes[\"chartevents\"].select(['subject_id', 'hadm_id', 'stay_id', 'itemid', 'value', 'valuenum', 'valueuom','charttime'])\n",
    "\n",
    "chartevents_temp0 = dataframes[\"chartevents\"].join(\n",
    "    filtered_icustays.select([\"subject_id\", \"hadm_id\", \"stay_id\"]),\n",
    "    on=[\"subject_id\", \"hadm_id\", \"stay_id\"],\n",
    "    how=\"inner\"\n",
    ")\n",
    "\n",
    "#print(chartevents_temp0)"
   ]
  },
  {
   "cell_type": "code",
   "execution_count": null,
   "id": "f6cde1ed",
   "metadata": {},
   "outputs": [],
   "source": [
    "# Filter d_items for chartevents for joining\n",
    "dataframes[\"d_items\"] = dataframes[\"d_items\"].select(['itemid', 'label','linksto', 'abbreviation'])\n",
    "\n",
    "chartevents_temp1 = dataframes[\"d_items\"].filter(\n",
    "    pl.col(\"linksto\") == \"chartevents\"\n",
    ").drop(\"linksto\")\n",
    "\n",
    "# Join d_items with filtered chartevents based on itemid\n",
    "patients_all_chartevents = chartevents_temp0.join(\n",
    "    chartevents_temp1,\n",
    "    on=\"itemid\",\n",
    "    how=\"inner\"\n",
    ")\n",
    "\n",
    "#print(patients_all_chartevents)"
   ]
  },
  {
   "cell_type": "code",
   "execution_count": null,
   "id": "c7138f50",
   "metadata": {},
   "outputs": [],
   "source": [
    "# list of all relevant itemids for filtering chartevents\n",
    "itemid_list = [226984, 226228, 228395, 228394, 229381, 223898, 228396, 226104, 229382, 228688, 2930, 2903, 2931, 2982, 29281, 29011, 78097, 29041, 230040, 225309, 227243, 220179, 220050, 224167, 224027, 223761, 223762, 226329, 50825, 229770, 223942, 223936, 223948, 223941, 223946, 223949, 223945, 223939, 223944, 223940, 223938, 225624, 51842, 50820, 223830, 220645, 226534, 228389, 228390, 50983, 52623, 50809, 50931, 52569, 226537, 225664, 220621, 228388, 52028, 51638, 51639, 51221, 226540, 220545, 220227, 220277, 223835, 50817, 51181, 5119]\n",
    "\n",
    "# filter all patients chartevents by itemis list\n",
    "filtered_chartevents = patients_all_chartevents.filter(\n",
    "    pl.col(\"itemid\").is_in(itemid_list)\n",
    ")\n",
    "\n",
    "print(filtered_chartevents.columns)\n",
    "print(filtered_chartevents)"
   ]
  },
  {
   "cell_type": "code",
   "execution_count": null,
   "id": "bf5753a9",
   "metadata": {},
   "outputs": [],
   "source": [
    "# Melt metadata columns into long format\n",
    "patient_metadata = pneumonia_patients_df.select([\n",
    "    \"subject_id\", \"hadm_id\", \"gender\", \"anchor_age\", \"admission_location\",'admittime', 'long_title'\n",
    "]).rename({\n",
    "    \"admittime\": \"charttime\",\n",
    "    \"long_title\": \"diagnosis\"\n",
    "}).unpivot(\n",
    "    index=[\"subject_id\", \"hadm_id\",'charttime'],\n",
    "    on=[\"gender\", \"anchor_age\", \"admission_location\", 'diagnosis'],\n",
    "    variable_name=\"label\",\n",
    "    value_name=\"value\"\n",
    ")\n",
    "\n",
    "#Join stay_id from filtered_chartevents (distinct) into metadata\n",
    "stay_keys = filtered_chartevents.select([\"subject_id\", \"hadm_id\", \"stay_id\"]).unique()\n",
    "patient_metadata_with_stay = patient_metadata.join(\n",
    "    stay_keys,\n",
    "    on=[\"subject_id\", \"hadm_id\"],\n",
    "    how=\"inner\"\n",
    ")"
   ]
  },
  {
   "cell_type": "code",
   "execution_count": null,
   "id": "241dd826",
   "metadata": {},
   "outputs": [],
   "source": [
    "# Prepare for concatenation by renaming and filling in None values\n",
    "patient_metadata_structured = patient_metadata_with_stay.with_columns([\n",
    "    pl.lit(None).alias(\"itemid\"),\n",
    "    pl.lit(None).alias(\"valuenum\"),\n",
    "    pl.lit(None).alias(\"valueuom\"),\n",
    "    pl.lit(None).alias(\"abbreviation\")\n",
    "]).select([\n",
    "    \"subject_id\",\"hadm_id\",\"stay_id\",\"itemid\",\"value\",\"valuenum\",\"valueuom\",\"charttime\",\"label\",\"abbreviation\"\n",
    "])\n",
    "\n",
    "# Concatenate patient metadata with filtered chartevents\n",
    "bronze_df = pl.concat([\n",
    "    filtered_chartevents,\n",
    "    patient_metadata_structured\n",
    "], how=\"vertical\")\n",
    "\n",
    "print(bronze_df.columns)\n",
    "print(bronze_df.head(10))"
   ]
  },
  {
   "cell_type": "code",
   "execution_count": null,
   "id": "2fbbb9c9",
   "metadata": {},
   "outputs": [],
   "source": [
    "# Save as parquet file\n",
    "bronze_df.write_parquet(\"data/bronze_df.parquet\")"
   ]
  }
 ],
 "metadata": {
  "kernelspec": {
   "display_name": "base",
   "language": "python",
   "name": "python3"
  },
  "language_info": {
   "codemirror_mode": {
    "name": "ipython",
    "version": 3
   },
   "file_extension": ".py",
   "mimetype": "text/x-python",
   "name": "python",
   "nbconvert_exporter": "python",
   "pygments_lexer": "ipython3",
   "version": "3.9.13"
  }
 },
 "nbformat": 4,
 "nbformat_minor": 5
}
