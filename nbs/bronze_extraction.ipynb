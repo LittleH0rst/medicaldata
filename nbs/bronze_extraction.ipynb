{
 "cells": [
  {
   "cell_type": "code",
   "execution_count": 35,
   "id": "67dc713b",
   "metadata": {},
   "outputs": [],
   "source": [
    "import os\n",
    "import polars as pl"
   ]
  },
  {
   "cell_type": "code",
   "execution_count": 36,
   "id": "830d663a",
   "metadata": {},
   "outputs": [],
   "source": [
    "# read data from csv.gz files into a dictionary of DataFrames\n",
    "dataframes = {}\n",
    "data_path = \"data\"\n",
    "filenames = [\"admissions\", \"chartevents\", \"d_icd_diagnoses\", \"d_items\", \"d_labitems\", \"diagnoses_icd\", \"icustays\", \"labevents\", \"patients\"]\n",
    "\n",
    "for name in filenames:\n",
    "    path = os.path.join(data_path, f\"{name}.csv.gz\")\n",
    "    dataframes[name] = pl.read_csv(path, infer_schema_length=1000)#ignore_errors=True)"
   ]
  },
  {
   "cell_type": "code",
   "execution_count": 37,
   "id": "15765662",
   "metadata": {},
   "outputs": [],
   "source": [
    "# filter out pneumonia diagnosis based on ICD codes\n",
    "filtered_diagnosis_df = dataframes[\"d_icd_diagnoses\"].filter(\n",
    "    pl.col(\"long_title\").str.contains(\"pneumonia\") &\n",
    "    (\n",
    "        ( # ICD 9 = \"84...\"\n",
    "            (pl.col(\"icd_version\") == 9) &\n",
    "            (pl.col(\"icd_code\").cast(pl.Utf8).str.starts_with(\"48\"))\n",
    "        ) |\n",
    "        ( # ICD 10 = \"J1...\"\n",
    "            (pl.col(\"icd_version\") == 10) &\n",
    "            (pl.col(\"icd_code\").cast(pl.Utf8).str.starts_with(\"J1\"))\n",
    "        )\n",
    "    ))\n",
    "\n",
    "#print(filtered_diagnosis_df)\n",
    "dataframes[\"d_icd_diagnoses\"] = filtered_diagnosis_df # save back in df dictionary"
   ]
  },
  {
   "cell_type": "code",
   "execution_count": 38,
   "id": "dfee6e2a",
   "metadata": {},
   "outputs": [],
   "source": [
    "# Filter patients with diagnosis based on ICD codes by inner join\n",
    "dataframes[\"diagnoses_icd\"] = dataframes[\"diagnoses_icd\"].select(['subject_id', 'hadm_id', 'icd_code', 'icd_version'])\n",
    "\n",
    "pneumonia_diagnosis_temp0 = dataframes[\"diagnoses_icd\"].join(\n",
    "    filtered_diagnosis_df,\n",
    "    on=[\"icd_code\", \"icd_version\"],\n",
    "    how=\"inner\"\n",
    ")\n",
    "\n",
    "#print(pneumonia_diagnosis_temp0) # Leaves 9 patients with pneumonia diagnosis"
   ]
  },
  {
   "cell_type": "code",
   "execution_count": 39,
   "id": "df8e879b",
   "metadata": {},
   "outputs": [],
   "source": [
    "# Filter patients dataframe for relevant columns\n",
    "dataframes[\"patients\"] = dataframes[\"patients\"].select([\"subject_id\", \"gender\", \"anchor_age\"])\n",
    "\n",
    "# Add information to diagnosis dataframe\n",
    "pneumonia_diagnosis_temp1 = pneumonia_diagnosis_temp0.join(\n",
    "    dataframes[\"patients\"],\n",
    "    on=\"subject_id\",\n",
    "    how=\"inner\"\n",
    ")\n",
    "\n",
    "#print(pneumonia_diagnosis_temp1)"
   ]
  },
  {
   "cell_type": "code",
   "execution_count": 40,
   "id": "af2a270a",
   "metadata": {},
   "outputs": [
    {
     "name": "stdout",
     "output_type": "stream",
     "text": [
      "shape: (9, 8)\n",
      "┌────────────┬──────────┬──────────┬─────────────┬─────────────┬────────┬────────────┬─────────────┐\n",
      "│ subject_id ┆ hadm_id  ┆ icd_code ┆ icd_version ┆ long_title  ┆ gender ┆ anchor_age ┆ admission_l │\n",
      "│ ---        ┆ ---      ┆ ---      ┆ ---         ┆ ---         ┆ ---    ┆ ---        ┆ ocation     │\n",
      "│ i64        ┆ i64      ┆ str      ┆ i64         ┆ str         ┆ str    ┆ i64        ┆ ---         │\n",
      "│            ┆          ┆          ┆             ┆             ┆        ┆            ┆ str         │\n",
      "╞════════════╪══════════╪══════════╪═════════════╪═════════════╪════════╪════════════╪═════════════╡\n",
      "│ 10037975   ┆ 27617929 ┆ 4820     ┆ 9           ┆ Pneumonia   ┆ M      ┆ 60         ┆ TRANSFER    │\n",
      "│            ┆          ┆          ┆             ┆ due to      ┆        ┆            ┆ FROM        │\n",
      "│            ┆          ┆          ┆             ┆ Klebsiella  ┆        ┆            ┆ HOSPITAL    │\n",
      "│            ┆          ┆          ┆             ┆ pn…         ┆        ┆            ┆             │\n",
      "│ 10004733   ┆ 27411876 ┆ 48249    ┆ 9           ┆ Other Staph ┆ M      ┆ 51         ┆ TRANSFER    │\n",
      "│            ┆          ┆          ┆             ┆ ylococcus   ┆        ┆            ┆ FROM        │\n",
      "│            ┆          ┆          ┆             ┆ pneumonia   ┆        ┆            ┆ HOSPITAL    │\n",
      "│ 10020944   ┆ 29974575 ┆ 4820     ┆ 9           ┆ Pneumonia   ┆ M      ┆ 72         ┆ EMERGENCY   │\n",
      "│            ┆          ┆          ┆             ┆ due to      ┆        ┆            ┆ ROOM        │\n",
      "│            ┆          ┆          ┆             ┆ Klebsiella  ┆        ┆            ┆             │\n",
      "│            ┆          ┆          ┆             ┆ pn…         ┆        ┆            ┆             │\n",
      "│ 10027602   ┆ 28166872 ┆ 48242    ┆ 9           ┆ Methicillin ┆ F      ┆ 71         ┆ EMERGENCY   │\n",
      "│            ┆          ┆          ┆             ┆ resistant   ┆        ┆            ┆ ROOM        │\n",
      "│            ┆          ┆          ┆             ┆ pneumoni…   ┆        ┆            ┆             │\n",
      "│ 10021487   ┆ 28998349 ┆ 48241    ┆ 9           ┆ Methicillin ┆ M      ┆ 43         ┆ EMERGENCY   │\n",
      "│            ┆          ┆          ┆             ┆ susceptible ┆        ┆            ┆ ROOM        │\n",
      "│            ┆          ┆          ┆             ┆ pneumo…     ┆        ┆            ┆             │\n",
      "│ 10037928   ┆ 23721604 ┆ 4870     ┆ 9           ┆ Influenza   ┆ F      ┆ 78         ┆ EMERGENCY   │\n",
      "│            ┆          ┆          ┆             ┆ with        ┆        ┆            ┆ ROOM        │\n",
      "│            ┆          ┆          ┆             ┆ pneumonia   ┆        ┆            ┆             │\n",
      "│ 10009049   ┆ 22995465 ┆ 4829     ┆ 9           ┆ Bacterial   ┆ M      ┆ 56         ┆ EMERGENCY   │\n",
      "│            ┆          ┆          ┆             ┆ pneumonia,  ┆        ┆            ┆ ROOM        │\n",
      "│            ┆          ┆          ┆             ┆ unspecifi…  ┆        ┆            ┆             │\n",
      "│ 10035631   ┆ 29462354 ┆ 4809     ┆ 9           ┆ Viral       ┆ M      ┆ 63         ┆ PHYSICIAN   │\n",
      "│            ┆          ┆          ┆             ┆ pneumonia,  ┆        ┆            ┆ REFERRAL    │\n",
      "│            ┆          ┆          ┆             ┆ unspecified ┆        ┆            ┆             │\n",
      "│ 10035631   ┆ 29276678 ┆ J159     ┆ 10          ┆ Unspecified ┆ M      ┆ 63         ┆ EMERGENCY   │\n",
      "│            ┆          ┆          ┆             ┆ bacterial   ┆        ┆            ┆ ROOM        │\n",
      "│            ┆          ┆          ┆             ┆ pneumoni…   ┆        ┆            ┆             │\n",
      "└────────────┴──────────┴──────────┴─────────────┴─────────────┴────────┴────────────┴─────────────┘\n"
     ]
    }
   ],
   "source": [
    "# Filter admissions dataframe for relevant columns\n",
    "dataframes[\"admissions\"] = dataframes[\"admissions\"].select([\"subject_id\", \"hadm_id\", \"admission_location\"])\n",
    "#print(dataframes[\"admissions\"])\n",
    "\n",
    "\n",
    "# Add information to diagnosis dataframe\n",
    "pneumonia_patients_df = pneumonia_diagnosis_temp1.join(\n",
    "    dataframes[\"admissions\"],\n",
    "    on=[\"subject_id\", \"hadm_id\"],\n",
    "    how=\"inner\"\n",
    ")\n",
    "\n",
    "print(pneumonia_patients_df)\n",
    "# finished patient dataframe"
   ]
  },
  {
   "cell_type": "code",
   "execution_count": 41,
   "id": "d35b1dbe",
   "metadata": {},
   "outputs": [
    {
     "name": "stdout",
     "output_type": "stream",
     "text": [
      "shape: (7, 3)\n",
      "┌────────────┬──────────┬──────────┐\n",
      "│ subject_id ┆ hadm_id  ┆ stay_id  │\n",
      "│ ---        ┆ ---      ┆ ---      │\n",
      "│ i64        ┆ i64      ┆ i64      │\n",
      "╞════════════╪══════════╪══════════╡\n",
      "│ 10021487   ┆ 28998349 ┆ 38197705 │\n",
      "│ 10020944   ┆ 29974575 ┆ 30757476 │\n",
      "│ 10037975   ┆ 27617929 ┆ 39061571 │\n",
      "│ 10027602   ┆ 28166872 ┆ 32391858 │\n",
      "│ 10009049   ┆ 22995465 ┆ 35636875 │\n",
      "│ 10004733   ┆ 27411876 ┆ 39635619 │\n",
      "│ 10035631   ┆ 29276678 ┆ 30932571 │\n",
      "└────────────┴──────────┴──────────┘\n"
     ]
    }
   ],
   "source": [
    "# Filter out icustays for relevant patients by subject_id & hadm_id from pneumonia_patients_df\n",
    "\n",
    "filtered_icustays = dataframes[\"icustays\"].join(\n",
    "    pneumonia_patients_df.select([\"subject_id\", \"hadm_id\"]),\n",
    "    on=[\"subject_id\", \"hadm_id\"],\n",
    "    how=\"inner\"\n",
    ").select([\"subject_id\", \"hadm_id\", \"stay_id\"])\n",
    "\n",
    "print(filtered_icustays) # 7 patients with icu stay"
   ]
  },
  {
   "cell_type": "code",
   "execution_count": 44,
   "id": "a2f64136",
   "metadata": {},
   "outputs": [
    {
     "name": "stdout",
     "output_type": "stream",
     "text": [
      "shape: (101_630, 8)\n",
      "┌────────────┬──────────┬──────────┬────────┬──────────────────────┬──────────┬──────────┬─────────┐\n",
      "│ subject_id ┆ hadm_id  ┆ stay_id  ┆ itemid ┆ value                ┆ valuenum ┆ valueuom ┆ warning │\n",
      "│ ---        ┆ ---      ┆ ---      ┆ ---    ┆ ---                  ┆ ---      ┆ ---      ┆ ---     │\n",
      "│ i64        ┆ i64      ┆ i64      ┆ i64    ┆ str                  ┆ f64      ┆ str      ┆ i64     │\n",
      "╞════════════╪══════════╪══════════╪════════╪══════════════════════╪══════════╪══════════╪═════════╡\n",
      "│ 10037975   ┆ 27617929 ┆ 39061571 ┆ 223988 ┆ Rhonchi              ┆ null     ┆ null     ┆ 0       │\n",
      "│ 10037975   ┆ 27617929 ┆ 39061571 ┆ 223837 ┆ 8mm                  ┆ null     ┆ null     ┆ 0       │\n",
      "│ 10037975   ┆ 27617929 ┆ 39061571 ┆ 224696 ┆ 22                   ┆ 22.0     ┆ cmH2O    ┆ 0       │\n",
      "│ 10037975   ┆ 27617929 ┆ 39061571 ┆ 224415 ┆ 24cm                 ┆ null     ┆ null     ┆ 0       │\n",
      "│ 10037975   ┆ 27617929 ┆ 39061571 ┆ 227517 ┆ Active               ┆ null     ┆ null     ┆ 0       │\n",
      "│ …          ┆ …        ┆ …        ┆ …      ┆ …                    ┆ …        ┆ …        ┆ …       │\n",
      "│ 10021487   ┆ 28998349 ┆ 38197705 ┆ 225698 ┆ 35                   ┆ 35.0     ┆ mEq/L    ┆ 1       │\n",
      "│ 10021487   ┆ 28998349 ┆ 38197705 ┆ 223830 ┆ 7.39                 ┆ 7.39     ┆ units    ┆ 0       │\n",
      "│ 10021487   ┆ 28998349 ┆ 38197705 ┆ 220001 ┆ .Care Plan -         ┆ null     ┆ null     ┆ null    │\n",
      "│            ┆          ┆          ┆        ┆ Impaired Tissue P…   ┆          ┆          ┆         │\n",
      "│ 10021487   ┆ 28998349 ┆ 38197705 ┆ 220001 ┆ Trauma, s/p          ┆ null     ┆ null     ┆ null    │\n",
      "│ 10021487   ┆ 28998349 ┆ 38197705 ┆ 220001 ┆ Trauma, s/p          ┆ null     ┆ null     ┆ null    │\n",
      "└────────────┴──────────┴──────────┴────────┴──────────────────────┴──────────┴──────────┴─────────┘\n"
     ]
    }
   ],
   "source": [
    "# TODO: Reduce by filtered d_items, then join with selected patients on subject_id & hadm_id & stay_id\n",
    "dataframes[\"chartevents\"] = dataframes[\"chartevents\"].select(['subject_id', 'hadm_id', 'stay_id', 'itemid', 'value', 'valuenum', 'valueuom', 'warning'])\n",
    "\n",
    "filtered_chartevents = dataframes[\"chartevents\"].join(\n",
    "    filtered_icustays.select([\"subject_id\", \"hadm_id\", \"stay_id\"]),\n",
    "    on=[\"subject_id\", \"hadm_id\", \"stay_id\"],\n",
    "    how=\"inner\"\n",
    ")\n",
    "\n",
    "print(filtered_chartevents)"
   ]
  },
  {
   "cell_type": "code",
   "execution_count": 43,
   "id": "f6cde1ed",
   "metadata": {},
   "outputs": [
    {
     "name": "stdout",
     "output_type": "stream",
     "text": [
      "['itemid', 'label', 'linksto', 'abbreviation', 'category', 'unitname']\n",
      "shape: (4_014, 6)\n",
      "┌────────┬──────────────────────────┬─────────────┬──────────────────────────┬──────────┬──────────┐\n",
      "│ itemid ┆ label                    ┆ linksto     ┆ abbreviation             ┆ category ┆ unitname │\n",
      "│ ---    ┆ ---                      ┆ ---         ┆ ---                      ┆ ---      ┆ ---      │\n",
      "│ i64    ┆ str                      ┆ str         ┆ str                      ┆ str      ┆ str      │\n",
      "╞════════╪══════════════════════════╪═════════════╪══════════════════════════╪══════════╪══════════╡\n",
      "│ 226228 ┆ Gender                   ┆ chartevents ┆ Gender                   ┆ ADT      ┆ null     │\n",
      "│ 226545 ┆ Race                     ┆ chartevents ┆ Race                     ┆ ADT      ┆ null     │\n",
      "│ 229877 ┆ Suction events (CH)      ┆ chartevents ┆ Suction events (CH)      ┆ ECMO     ┆ null     │\n",
      "│ 229875 ┆ Oxygenator visible (CH)  ┆ chartevents ┆ Oxygenator visible (CH)  ┆ ECMO     ┆ null     │\n",
      "│ 229266 ┆ Cannula sites visually   ┆ chartevents ┆ Cannula sites visually   ┆ ECMO     ┆ null     │\n",
      "│        ┆ inspect…                 ┆             ┆ inspect…                 ┆          ┆          │\n",
      "│ …      ┆ …                        ┆ …           ┆ …                        ┆ …        ┆ …        │\n",
      "│ 227452 ┆ Tobramycin (Trough)      ┆ chartevents ┆ Tobramycin (Trough)      ┆ Labs     ┆ None     │\n",
      "│ 227451 ┆ Tobramycin (Random)      ┆ chartevents ┆ Tobramycin (Random)      ┆ Labs     ┆ None     │\n",
      "│ 227457 ┆ Platelet Count           ┆ chartevents ┆ Platelet Count           ┆ Labs     ┆ None     │\n",
      "│ 227468 ┆ Fibrinogen               ┆ chartevents ┆ Fibrinogen               ┆ Labs     ┆ None     │\n",
      "│ 227463 ┆ Cortisol                 ┆ chartevents ┆ Cortisol                 ┆ Labs     ┆ None     │\n",
      "└────────┴──────────────────────────┴─────────────┴──────────────────────────┴──────────┴──────────┘\n"
     ]
    }
   ],
   "source": [
    "# TODO: Filter for relevant parameters & columns\n",
    "dataframes[\"d_items\"] = dataframes[\"d_items\"].select(['itemid', 'label','linksto', 'abbreviation','category','unitname'])\n",
    "\n",
    "print(dataframes[\"d_items\"].columns)\n",
    "print(dataframes[\"d_items\"])"
   ]
  },
  {
   "cell_type": "code",
   "execution_count": 23,
   "id": "46845cac",
   "metadata": {},
   "outputs": [],
   "source": [
    "# TODO: Filter for relevant parameters & columns\n",
    "#print(dataframes[\"d_labitems\"].head(2))\n",
    "\n",
    "# TODO: Reduce by filtered d_labitems, then join with selected patients on subject_id & hadm_id\n",
    "#print(dataframes[\"labevents\"].head(2))"
   ]
  },
  {
   "cell_type": "code",
   "execution_count": null,
   "id": "2fbbb9c9",
   "metadata": {},
   "outputs": [],
   "source": [
    "# TODO: Save that shit as a .parquet or similar"
   ]
  }
 ],
 "metadata": {
  "kernelspec": {
   "display_name": "base",
   "language": "python",
   "name": "python3"
  },
  "language_info": {
   "codemirror_mode": {
    "name": "ipython",
    "version": 3
   },
   "file_extension": ".py",
   "mimetype": "text/x-python",
   "name": "python",
   "nbconvert_exporter": "python",
   "pygments_lexer": "ipython3",
   "version": "3.9.13"
  }
 },
 "nbformat": 4,
 "nbformat_minor": 5
}
