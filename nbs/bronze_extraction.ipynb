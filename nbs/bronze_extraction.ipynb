{
 "cells": [
  {
   "cell_type": "code",
   "execution_count": 64,
   "id": "67dc713b",
   "metadata": {},
   "outputs": [],
   "source": [
    "import os\n",
    "import polars as pl"
   ]
  },
  {
   "cell_type": "code",
   "execution_count": 65,
   "id": "830d663a",
   "metadata": {},
   "outputs": [],
   "source": [
    "# read data from csv.gz files into a dictionary of DataFrames\n",
    "dataframes = {}\n",
    "data_path = \"data\"\n",
    "filenames = [\"admissions\", \"chartevents\", \"d_icd_diagnoses\", \"d_items\", \"d_labitems\", \"diagnoses_icd\", \"icustays\", \"labevents\", \"patients\"]\n",
    "\n",
    "for name in filenames:\n",
    "    path = os.path.join(data_path, f\"{name}.csv.gz\")\n",
    "    dataframes[name] = pl.read_csv(path, infer_schema_length=1000)#ignore_errors=True)"
   ]
  },
  {
   "cell_type": "code",
   "execution_count": 66,
   "id": "243c9cef",
   "metadata": {},
   "outputs": [
    {
     "name": "stdout",
     "output_type": "stream",
     "text": [
      "['subject_id', 'hadm_id', 'seq_num', 'icd_code', 'icd_version']\n"
     ]
    }
   ],
   "source": [
    "# filter dataframes for relevant columns\n",
    "print(dataframes[\"diagnoses_icd\"].columns)\n"
   ]
  },
  {
   "cell_type": "code",
   "execution_count": 67,
   "id": "15765662",
   "metadata": {},
   "outputs": [],
   "source": [
    "# filter out pneumonia diagnosis based on ICD codes\n",
    "filtered_diagnosis_df = dataframes[\"d_icd_diagnoses\"].filter(\n",
    "    pl.col(\"long_title\").str.contains(\"pneumonia\") &\n",
    "    (\n",
    "        (\n",
    "            (pl.col(\"icd_version\") == 9) &\n",
    "            (pl.col(\"icd_code\").cast(pl.Utf8).str.starts_with(\"48\"))\n",
    "        ) |\n",
    "        (\n",
    "            (pl.col(\"icd_version\") == 10) &\n",
    "            (pl.col(\"icd_code\").cast(pl.Utf8).str.starts_with(\"J1\"))\n",
    "        )\n",
    "    ))\n",
    "\n",
    "#print(filtered_diagnosis_df)\n",
    "dataframes[\"d_icd_diagnoses\"] = filtered_diagnosis_df # save back in df dictionary"
   ]
  },
  {
   "cell_type": "code",
   "execution_count": 68,
   "id": "dfee6e2a",
   "metadata": {},
   "outputs": [],
   "source": [
    "# Filter patients with diagnosis based on ICD codes by inner join\n",
    "dataframes[\"diagnoses_icd\"] = dataframes[\"diagnoses_icd\"].select(['subject_id', 'hadm_id', 'icd_code', 'icd_version'])\n",
    "\n",
    "pneumonia_diagnosis_temp0 = dataframes[\"diagnoses_icd\"].join(\n",
    "    filtered_diagnosis_df,\n",
    "    on=[\"icd_code\", \"icd_version\"],\n",
    "    how=\"inner\"\n",
    ")\n",
    "\n",
    "#print(pneumonia_diagnosis_temp0) # Leaves 9 patients with pneumonia diagnosis"
   ]
  },
  {
   "cell_type": "code",
   "execution_count": 69,
   "id": "df8e879b",
   "metadata": {},
   "outputs": [],
   "source": [
    "# Filter patients dataframe for relevant columns\n",
    "dataframes[\"patients\"] = dataframes[\"patients\"].select([\"subject_id\", \"gender\", \"anchor_age\"])\n",
    "\n",
    "# Add information to diagnosis dataframe\n",
    "pneumonia_diagnosis_temp1 = pneumonia_diagnosis_temp0.join(\n",
    "    dataframes[\"patients\"],\n",
    "    on=\"subject_id\",\n",
    "    how=\"inner\"\n",
    ")\n",
    "\n",
    "#print(pneumonia_diagnosis_temp1)"
   ]
  },
  {
   "cell_type": "code",
   "execution_count": 70,
   "id": "af2a270a",
   "metadata": {},
   "outputs": [
    {
     "name": "stdout",
     "output_type": "stream",
     "text": [
      "shape: (9, 8)\n",
      "┌────────────┬──────────┬──────────┬─────────────┬─────────────┬────────┬────────────┬─────────────┐\n",
      "│ subject_id ┆ hadm_id  ┆ icd_code ┆ icd_version ┆ long_title  ┆ gender ┆ anchor_age ┆ admission_l │\n",
      "│ ---        ┆ ---      ┆ ---      ┆ ---         ┆ ---         ┆ ---    ┆ ---        ┆ ocation     │\n",
      "│ i64        ┆ i64      ┆ str      ┆ i64         ┆ str         ┆ str    ┆ i64        ┆ ---         │\n",
      "│            ┆          ┆          ┆             ┆             ┆        ┆            ┆ str         │\n",
      "╞════════════╪══════════╪══════════╪═════════════╪═════════════╪════════╪════════════╪═════════════╡\n",
      "│ 10037975   ┆ 27617929 ┆ 4820     ┆ 9           ┆ Pneumonia   ┆ M      ┆ 60         ┆ TRANSFER    │\n",
      "│            ┆          ┆          ┆             ┆ due to      ┆        ┆            ┆ FROM        │\n",
      "│            ┆          ┆          ┆             ┆ Klebsiella  ┆        ┆            ┆ HOSPITAL    │\n",
      "│            ┆          ┆          ┆             ┆ pn…         ┆        ┆            ┆             │\n",
      "│ 10004733   ┆ 27411876 ┆ 48249    ┆ 9           ┆ Other Staph ┆ M      ┆ 51         ┆ TRANSFER    │\n",
      "│            ┆          ┆          ┆             ┆ ylococcus   ┆        ┆            ┆ FROM        │\n",
      "│            ┆          ┆          ┆             ┆ pneumonia   ┆        ┆            ┆ HOSPITAL    │\n",
      "│ 10020944   ┆ 29974575 ┆ 4820     ┆ 9           ┆ Pneumonia   ┆ M      ┆ 72         ┆ EMERGENCY   │\n",
      "│            ┆          ┆          ┆             ┆ due to      ┆        ┆            ┆ ROOM        │\n",
      "│            ┆          ┆          ┆             ┆ Klebsiella  ┆        ┆            ┆             │\n",
      "│            ┆          ┆          ┆             ┆ pn…         ┆        ┆            ┆             │\n",
      "│ 10027602   ┆ 28166872 ┆ 48242    ┆ 9           ┆ Methicillin ┆ F      ┆ 71         ┆ EMERGENCY   │\n",
      "│            ┆          ┆          ┆             ┆ resistant   ┆        ┆            ┆ ROOM        │\n",
      "│            ┆          ┆          ┆             ┆ pneumoni…   ┆        ┆            ┆             │\n",
      "│ 10021487   ┆ 28998349 ┆ 48241    ┆ 9           ┆ Methicillin ┆ M      ┆ 43         ┆ EMERGENCY   │\n",
      "│            ┆          ┆          ┆             ┆ susceptible ┆        ┆            ┆ ROOM        │\n",
      "│            ┆          ┆          ┆             ┆ pneumo…     ┆        ┆            ┆             │\n",
      "│ 10037928   ┆ 23721604 ┆ 4870     ┆ 9           ┆ Influenza   ┆ F      ┆ 78         ┆ EMERGENCY   │\n",
      "│            ┆          ┆          ┆             ┆ with        ┆        ┆            ┆ ROOM        │\n",
      "│            ┆          ┆          ┆             ┆ pneumonia   ┆        ┆            ┆             │\n",
      "│ 10009049   ┆ 22995465 ┆ 4829     ┆ 9           ┆ Bacterial   ┆ M      ┆ 56         ┆ EMERGENCY   │\n",
      "│            ┆          ┆          ┆             ┆ pneumonia,  ┆        ┆            ┆ ROOM        │\n",
      "│            ┆          ┆          ┆             ┆ unspecifi…  ┆        ┆            ┆             │\n",
      "│ 10035631   ┆ 29462354 ┆ 4809     ┆ 9           ┆ Viral       ┆ M      ┆ 63         ┆ PHYSICIAN   │\n",
      "│            ┆          ┆          ┆             ┆ pneumonia,  ┆        ┆            ┆ REFERRAL    │\n",
      "│            ┆          ┆          ┆             ┆ unspecified ┆        ┆            ┆             │\n",
      "│ 10035631   ┆ 29276678 ┆ J159     ┆ 10          ┆ Unspecified ┆ M      ┆ 63         ┆ EMERGENCY   │\n",
      "│            ┆          ┆          ┆             ┆ bacterial   ┆        ┆            ┆ ROOM        │\n",
      "│            ┆          ┆          ┆             ┆ pneumoni…   ┆        ┆            ┆             │\n",
      "└────────────┴──────────┴──────────┴─────────────┴─────────────┴────────┴────────────┴─────────────┘\n"
     ]
    }
   ],
   "source": [
    "# Filter admissions dataframe for relevant columns\n",
    "dataframes[\"admissions\"] = dataframes[\"admissions\"].select([\"subject_id\", \"hadm_id\", \"admission_location\"])\n",
    "\n",
    "# Add information to diagnosis dataframe\n",
    "pneumonia_patients_df = pneumonia_diagnosis_temp1.join(\n",
    "    dataframes[\"admissions\"],\n",
    "    on=[\"subject_id\", \"hadm_id\"],\n",
    "    how=\"inner\"\n",
    ")\n",
    "\n",
    "print(pneumonia_patients_df)"
   ]
  },
  {
   "cell_type": "code",
   "execution_count": null,
   "id": "46845cac",
   "metadata": {},
   "outputs": [
    {
     "name": "stdout",
     "output_type": "stream",
     "text": [
      "shape: (2, 4)\n",
      "┌────────┬──────────────┬───────┬───────────┐\n",
      "│ itemid ┆ label        ┆ fluid ┆ category  │\n",
      "│ ---    ┆ ---          ┆ ---   ┆ ---       │\n",
      "│ i64    ┆ str          ┆ str   ┆ str       │\n",
      "╞════════╪══════════════╪═══════╪═══════════╡\n",
      "│ 50808  ┆ Free Calcium ┆ Blood ┆ Blood Gas │\n",
      "│ 50826  ┆ Tidal Volume ┆ Blood ┆ Blood Gas │\n",
      "└────────┴──────────────┴───────┴───────────┘\n"
     ]
    }
   ],
   "source": [
    "# TODO: Filter for relevant parameters & columns\n",
    "print(dataframes[\"d_labitems\"].head(2))"
   ]
  },
  {
   "cell_type": "code",
   "execution_count": null,
   "id": "13c8c085",
   "metadata": {},
   "outputs": [
    {
     "name": "stdout",
     "output_type": "stream",
     "text": [
      "shape: (2, 16)\n",
      "┌────────────┬────────────┬──────────┬────────────┬───┬───────────┬──────────┬──────────┬──────────┐\n",
      "│ labevent_i ┆ subject_id ┆ hadm_id  ┆ specimen_i ┆ … ┆ ref_range ┆ flag     ┆ priority ┆ comments │\n",
      "│ d          ┆ ---        ┆ ---      ┆ d          ┆   ┆ _upper    ┆ ---      ┆ ---      ┆ ---      │\n",
      "│ ---        ┆ i64        ┆ i64      ┆ ---        ┆   ┆ ---       ┆ str      ┆ str      ┆ str      │\n",
      "│ i64        ┆            ┆          ┆ i64        ┆   ┆ f64       ┆          ┆          ┆          │\n",
      "╞════════════╪════════════╪══════════╪════════════╪═══╪═══════════╪══════════╪══════════╪══════════╡\n",
      "│ 172061     ┆ 10014354   ┆ 29600294 ┆ 1808066    ┆ … ┆ 15.5      ┆ null     ┆ ROUTINE  ┆ null     │\n",
      "│ 172062     ┆ 10014354   ┆ 29600294 ┆ 1808066    ┆ … ┆ 6.1       ┆ abnormal ┆ ROUTINE  ┆ null     │\n",
      "└────────────┴────────────┴──────────┴────────────┴───┴───────────┴──────────┴──────────┴──────────┘\n"
     ]
    }
   ],
   "source": [
    "# TODO: Reduce by filtered d_labitems, then join with selected patients on subject_id & hadm_id\n",
    "print(dataframes[\"labevents\"].head(2))"
   ]
  },
  {
   "cell_type": "code",
   "execution_count": null,
   "id": "f6cde1ed",
   "metadata": {},
   "outputs": [
    {
     "name": "stdout",
     "output_type": "stream",
     "text": [
      "shape: (2, 9)\n",
      "┌────────┬────────┬─────────────┬────────────┬───┬──────────┬────────────┬────────────┬────────────┐\n",
      "│ itemid ┆ label  ┆ abbreviatio ┆ linksto    ┆ … ┆ unitname ┆ param_type ┆ lownormalv ┆ highnormal │\n",
      "│ ---    ┆ ---    ┆ n           ┆ ---        ┆   ┆ ---      ┆ ---        ┆ alue       ┆ value      │\n",
      "│ i64    ┆ str    ┆ ---         ┆ str        ┆   ┆ str      ┆ str        ┆ ---        ┆ ---        │\n",
      "│        ┆        ┆ str         ┆            ┆   ┆          ┆            ┆ str        ┆ str        │\n",
      "╞════════╪════════╪═════════════╪════════════╪═══╪══════════╪════════════╪════════════╪════════════╡\n",
      "│ 226228 ┆ Gender ┆ Gender      ┆ chartevent ┆ … ┆ null     ┆ Text       ┆ null       ┆ null       │\n",
      "│        ┆        ┆             ┆ s          ┆   ┆          ┆            ┆            ┆            │\n",
      "│ 226545 ┆ Race   ┆ Race        ┆ chartevent ┆ … ┆ null     ┆ Text       ┆ null       ┆ null       │\n",
      "│        ┆        ┆             ┆ s          ┆   ┆          ┆            ┆            ┆            │\n",
      "└────────┴────────┴─────────────┴────────────┴───┴──────────┴────────────┴────────────┴────────────┘\n"
     ]
    }
   ],
   "source": [
    "# TODO: Filter for relevant parameters & columns\n",
    "print(dataframes[\"d_items\"].head(2))"
   ]
  },
  {
   "cell_type": "code",
   "execution_count": null,
   "id": "d35b1dbe",
   "metadata": {},
   "outputs": [],
   "source": [
    "# TODO: filter for relevant patients by subject_id & hadm_id\n",
    "print(dataframes[\"icustays\"].head(2))"
   ]
  },
  {
   "cell_type": "code",
   "execution_count": null,
   "id": "a2f64136",
   "metadata": {},
   "outputs": [
    {
     "name": "stdout",
     "output_type": "stream",
     "text": [
      "shape: (2, 11)\n",
      "┌────────────┬──────────┬──────────┬──────────────┬───┬───────┬──────────┬──────────┬─────────┐\n",
      "│ subject_id ┆ hadm_id  ┆ stay_id  ┆ caregiver_id ┆ … ┆ value ┆ valuenum ┆ valueuom ┆ warning │\n",
      "│ ---        ┆ ---      ┆ ---      ┆ ---          ┆   ┆ ---   ┆ ---      ┆ ---      ┆ ---     │\n",
      "│ i64        ┆ i64      ┆ i64      ┆ i64          ┆   ┆ str   ┆ f64      ┆ str      ┆ i64     │\n",
      "╞════════════╪══════════╪══════════╪══════════════╪═══╪═══════╪══════════╪══════════╪═════════╡\n",
      "│ 10005817   ┆ 20626031 ┆ 32604416 ┆ 6770         ┆ … ┆ On    ┆ null     ┆ null     ┆ 0       │\n",
      "│ 10005817   ┆ 20626031 ┆ 32604416 ┆ 6770         ┆ … ┆ 100   ┆ 100.0    ┆ %        ┆ 0       │\n",
      "└────────────┴──────────┴──────────┴──────────────┴───┴───────┴──────────┴──────────┴─────────┘\n"
     ]
    }
   ],
   "source": [
    "# TODO: Reduce by filtered d_items, then join with selected patients on subject_id & hadm_id & stay_id\n",
    "print(dataframes[\"chartevents\"].head(2))"
   ]
  },
  {
   "cell_type": "code",
   "execution_count": null,
   "id": "2fbbb9c9",
   "metadata": {},
   "outputs": [],
   "source": [
    "# TODO: Save that shit as a .parquet or similar"
   ]
  }
 ],
 "metadata": {
  "kernelspec": {
   "display_name": "base",
   "language": "python",
   "name": "python3"
  },
  "language_info": {
   "codemirror_mode": {
    "name": "ipython",
    "version": 3
   },
   "file_extension": ".py",
   "mimetype": "text/x-python",
   "name": "python",
   "nbconvert_exporter": "python",
   "pygments_lexer": "ipython3",
   "version": "3.9.13"
  }
 },
 "nbformat": 4,
 "nbformat_minor": 5
}
