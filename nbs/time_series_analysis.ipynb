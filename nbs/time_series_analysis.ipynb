{
 "cells": [
  {
   "cell_type": "code",
   "execution_count": 1,
   "id": "3f383753-2355-42bb-8c16-fd8e6a269117",
   "metadata": {},
   "outputs": [],
   "source": [
    "import polars as pl\n",
    "import pandas as pd\n",
    "import numpy as np\n",
    "import matplotlib.pyplot as plt\n",
    "import seaborn as sns\n",
    "from sklearn.metrics import mean_squared_error, mean_absolute_error\n",
    "from sktime.regression.distance_based import KNeighborsTimeSeriesRegressor\n",
    "from sktime.regression.deep_learning.lstmfcn import LSTMFCNRegressor\n",
    "import sktime\n",
    "from collections import Counter\n",
    "from IPython.display import display\n",
    "pl.Config.set_tbl_rows(20)      # Increase max rows (default is 10)\n",
    "pl.Config.set_tbl_cols(20)        # Increase max columns (default is 10)\n",
    "\n",
    "df = pl.read_parquet(\"data/gold_df.parquet\")\n",
    "#TODO: feature scaling\n",
    "scaling_cols = ['Systolic blood pressure', 'Age', 'pH measurement, arterial', 'Temperature', 'Hematocrit determination', 'Blood urea nitrogen measurement', 'Glucose measurement', 'Sodium measurement']\n",
    "df = df.with_columns([\n",
    "    (\n",
    "        ((pl.col(c).cast(pl.Float64) - pl.col(c).cast(pl.Float64).min()) /\n",
    "         (pl.col(c).cast(pl.Float64).max() - pl.col(c).cast(pl.Float64).min()))\n",
    "        .alias(c)\n",
    "    )\n",
    "    for c in scaling_cols\n",
    "])\n",
    "df = df.with_columns([\n",
    "    pl.col(\"Nursing Home\").map_elements(lambda x: 0 if x==False else 1, return_dtype=pl.Int64).alias(\"Nursing Home\"),\n",
    "    pl.col(\"Gender\").map_elements(lambda x: 0 if x == \"M\" else 1, return_dtype=pl.Int64).alias(\"Gender\")  # M/F to 0/1\n",
    "])"
   ]
  },
  {
   "cell_type": "code",
   "execution_count": 2,
   "id": "2e5afeef-fa4a-476b-ab26-a77048e5e5f4",
   "metadata": {},
   "outputs": [],
   "source": [
    "#train-test-split\n",
    "\n",
    "test_subject_ids = [10037975, 10004733, 10009049]\n",
    "df_test = df.filter(pl.col(\"subject_id\").is_in(test_subject_ids)).drop([\"subject_id\", \"CURB-65\",\"hadm_id\", \"window_id\"])\n",
    "df_train = df.filter(~pl.col(\"subject_id\").is_in(test_subject_ids)).drop([\"subject_id\", \"CURB-65\",\"hadm_id\", \"window_id\"])"
   ]
  },
  {
   "cell_type": "code",
   "execution_count": 3,
   "id": "e4caaded-b381-459e-8cdd-8d2958b218f5",
   "metadata": {},
   "outputs": [
    {
     "name": "stderr",
     "output_type": "stream",
     "text": [
      "/tmp/ipykernel_6770/3172753946.py:42: FutureWarning: The behavior of array concatenation with empty entries is deprecated. In a future version, this will no longer exclude empty items when determining the result dtype. To retain the old behavior, exclude the empty entries before the concat operation.\n",
      "  y = pd.concat([y, tmp[1]])\n"
     ]
    }
   ],
   "source": [
    "def get_sliding_windows(window_length, data, n):\n",
    "    columns = data.columns\n",
    "    #columns.remove('PSI/PORT')\n",
    "    columns.remove('stay_id')\n",
    "    window_dict = {column: [] for column in columns}\n",
    "    agg_labels = []\n",
    "\n",
    "    windows = pd.DataFrame()\n",
    "    for i in (range(0, len(data) - window_length - 24)):\n",
    "        window_data = data[i:(i + window_length)]\n",
    "        window_label = data['PSI/PORT'][i+window_length+24]\n",
    "        agg_labels.append(window_label)\n",
    "        #window_data = window_data.drop('PSI/PORT')\n",
    "        window_data = window_data.drop('stay_id')\n",
    "        window_data = window_data.to_pandas()\n",
    "        window_data.index.names = ['timepoints']\n",
    "        window_data = window_data.set_index([pd.Index([n] * len(window_data), name='instance')], append=True)\n",
    "        n += 1\n",
    "        window_data = window_data.reorder_levels(['instance'] + list(window_data.index.names[:-1]))\n",
    "        if windows.empty:\n",
    "            windows = window_data\n",
    "        else:\n",
    "            windows = pd.concat([windows, window_data])\n",
    "    agg_labels = pd.Series(agg_labels)\n",
    "    #windows = pd.DataFrame.from_dict(window_dict)\n",
    "    return windows, agg_labels, n\n",
    "\n",
    "\n",
    "def get_windowed_data(wl, f):\n",
    "    X = pd.DataFrame()\n",
    "    y = None\n",
    "    fs = f.partition_by(\"stay_id\")\n",
    "    n = 0\n",
    "    for i in range(len(fs)):\n",
    "        tmp = get_sliding_windows(wl, fs[i], n)\n",
    "        n = tmp[2]\n",
    "        if X.empty:\n",
    "            X = tmp[0]\n",
    "            y = tmp[1] \n",
    "        else: \n",
    "            X = pd.concat([X, tmp[0]])\n",
    "            y = pd.concat([y, tmp[1]])\n",
    "    return X, y\n",
    "    \n",
    "#TODO: separate sliding windows per patient \n",
    "X_test, y_test = get_windowed_data(5, df_test)\n",
    "X_train, y_train = get_windowed_data(5, df_train)\n",
    "\n",
    "def naive_drift(df):\n",
    "    data = df[\"PSI/PORT\"].tolist()\n",
    "    series = []\n",
    "    for i in range(0,len(data),5):\n",
    "        start = data[i]\n",
    "        end = data[i+4]\n",
    "        exp = (end-start)*6\n",
    "        series.append(exp)\n",
    "    return pd.Series(series)\n",
    "        "
   ]
  },
  {
   "cell_type": "code",
   "execution_count": 4,
   "id": "448813ac-3f2b-4f60-b05f-467c35d0c396",
   "metadata": {},
   "outputs": [
    {
     "name": "stdout",
     "output_type": "stream",
     "text": [
      "Mean Squared Error: 1069.331983805668\n",
      "Mean Absolute Error: 28.967611336032387\n"
     ]
    }
   ],
   "source": [
    "pred_nd = naive_drift(X_test)\n",
    "mse = mean_squared_error(y_test, pred_nd)\n",
    "mae = mean_absolute_error(y_test, pred_nd)\n",
    "print(\"Mean Squared Error:\", mse)\n",
    "print(\"Mean Absolute Error:\", mae)"
   ]
  },
  {
   "cell_type": "code",
   "execution_count": 5,
   "id": "0b9d6722-eb42-4d32-ae79-64935d9602de",
   "metadata": {},
   "outputs": [
    {
     "name": "stdout",
     "output_type": "stream",
     "text": [
      "Mean Squared Error: 296.3562753036437\n",
      "Mean Absolute Error: 11.133603238866396\n"
     ]
    }
   ],
   "source": [
    "regressor = KNeighborsTimeSeriesRegressor()\n",
    "sktime.datatypes.check_raise(X_train, \"pd-multiindex\")\n",
    "regressor.fit(X_train, y_train) \n",
    "y_pred = regressor.predict(X_test)\n",
    "mse = mean_squared_error(y_test, y_pred)\n",
    "mae = mean_absolute_error(y_test, y_pred)\n",
    "print(\"Mean Squared Error:\", mse)\n",
    "print(\"Mean Absolute Error:\", mae)"
   ]
  },
  {
   "cell_type": "code",
   "execution_count": 6,
   "id": "629d0171-9c04-4592-8a78-a03911ec3a54",
   "metadata": {},
   "outputs": [
    {
     "data": {
      "image/png": "[encoded data removed]",
      "text/plain": [
       "<Figure size 1000x600 with 1 Axes>"
      ]
     },
     "metadata": {},
     "output_type": "display_data"
    }
   ],
   "source": [
    "def eval(y_gold, y_pred, y_base):\n",
    "    # Ensure numpy arrays\n",
    "    y_gold = np.array(y_gold)\n",
    "    y_pred = np.array(y_pred)\n",
    "    y_base = np.array(y_base)\n",
    "\n",
    "    # Compute signed errors\n",
    "    err_knn = y_pred - y_gold\n",
    "    err_naive = y_base - y_gold\n",
    "\n",
    "    count_knn = Counter(err_knn)\n",
    "    count_naive = Counter(err_naive)\n",
    "\n",
    "    all_errors = sorted(set(count_knn.keys()).union(count_naive.keys()))\n",
    "\n",
    "    knn_counts = [count_knn.get(e, 0) for e in all_errors]\n",
    "    naive_counts = [count_naive.get(e, 0) for e in all_errors]\n",
    "\n",
    "    x = np.arange(len(all_errors))\n",
    "    width = 0.4\n",
    "\n",
    "    plt.figure(figsize=(10, 6))\n",
    "    plt.bar(x - width/2, knn_counts, width, label='KNN')\n",
    "    plt.bar(x + width/2, naive_counts, width, label='NaiveDrift')\n",
    "\n",
    "    plt.xticks(x, all_errors)\n",
    "    plt.xlabel('Absoluter Vorhersagefehler')\n",
    "    plt.ylabel('Häufigkeit')\n",
    "    plt.title('Verteilung der Vorhersagefehler')\n",
    "    plt.legend()\n",
    "    plt.grid(True, axis='y', linestyle='--', alpha=0.5)\n",
    "    plt.tight_layout()\n",
    "    plt.savefig(\"err_distr.png\")\n",
    "eval(y_test, y_pred, pred_nd)"
   ]
  },
  {
   "cell_type": "code",
   "execution_count": null,
   "id": "3104331c-5fcf-46f0-ae3d-0775fdb9e9ee",
   "metadata": {},
   "outputs": [],
   "source": []
  },
  {
   "cell_type": "code",
   "execution_count": null,
   "id": "1cf769a1-24e8-4950-9471-bb14b008ab48",
   "metadata": {},
   "outputs": [],
   "source": []
  },
  {
   "cell_type": "code",
   "execution_count": null,
   "id": "4c6afd67-4112-41df-94dd-83821146dd8e",
   "metadata": {},
   "outputs": [],
   "source": []
  }
 ],
 "metadata": {
  "kernelspec": {
   "display_name": "Python 3 (ipykernel)",
   "language": "python",
   "name": "python3"
  },
  "language_info": {
   "codemirror_mode": {
    "name": "ipython",
    "version": 3
   },
   "file_extension": ".py",
   "mimetype": "text/x-python",
   "name": "python",
   "nbconvert_exporter": "python",
   "pygments_lexer": "ipython3",
   "version": "3.12.3"
  }
 },
 "nbformat": 4,
 "nbformat_minor": 5
}
